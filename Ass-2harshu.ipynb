{
 "cells": [
  {
   "cell_type": "code",
   "execution_count": 8,
   "id": "2f92a78f",
   "metadata": {},
   "outputs": [
    {
     "name": "stdout",
     "output_type": "stream",
     "text": [
      "empty array: [[1.]]\n",
      "full array: [[2 2 2]\n",
      " [2 2 2]\n",
      " [2 2 2]]\n"
     ]
    }
   ],
   "source": [
    "#wap to create an empty and a full NumPy array\n",
    "import numpy as np\n",
    "empty_arr=np.empty((1,1))\n",
    "full_arr=np.full((3,3), 2)\n",
    "print(\"empty array:\",empty_arr)\n",
    "print(\"full array:\",full_arr)"
   ]
  },
  {
   "cell_type": "code",
   "execution_count": 12,
   "id": "a5c80964",
   "metadata": {},
   "outputs": [
    {
     "name": "stdout",
     "output_type": "stream",
     "text": [
      "Values: [[ 1.  2.  3.  4.  5.]\n",
      " [ 6.  7.  8.  9. 10.]\n",
      " [nan nan nan nan nan]]\n",
      "Removing non numeric values: [[ 1.  2.  3.  4.  5.]\n",
      " [ 6.  7.  8.  9. 10.]]\n"
     ]
    }
   ],
   "source": [
    "#wap to remove rows in numpy array that contains non numeric values\n",
    "arr=np.array([[1,2,3,4,5],[6,7,8,9,10],[np.nan,np.nan,np.nan,np.nan,np.nan]])\n",
    "print(\"Values:\",arr)\n",
    "print(\"Removing non numeric values:\",arr[~np.isnan(arr).any(axis=1)])"
   ]
  },
  {
   "cell_type": "code",
   "execution_count": 26,
   "id": "d3fdcc63",
   "metadata": {},
   "outputs": [
    {
     "name": "stdout",
     "output_type": "stream",
     "text": [
      "4\n"
     ]
    }
   ],
   "source": [
    "#wap to find the number of occurrences of sequence in a numpy array\n",
    "arr=np.array([[1,2,3,4],[2,3,4,5],[4,2,3,4],[2,3,4,5]])\n",
    "result=repr(arr).count(\"2, 3\")\n",
    "print(result)"
   ]
  },
  {
   "cell_type": "code",
   "execution_count": 27,
   "id": "bc36ed57",
   "metadata": {},
   "outputs": [
    {
     "name": "stdout",
     "output_type": "stream",
     "text": [
      "Original data: [1 2 3 4 5 3 5 4 5 6 1 5 5 2 7 8 2]\n",
      "Most frequent(repeated) value in the array: 5\n"
     ]
    }
   ],
   "source": [
    "#wap to find the most frequent value in a numpy array\n",
    "arr=np.array([1,2,3,4,5,3,5,4,5,6,1,5,5,2,7,8,2])\n",
    "print(\"Original data:\",arr)\n",
    "print(\"Most frequent(repeated) value in the array:\",np.bincount(arr).argmax())"
   ]
  },
  {
   "cell_type": "code",
   "execution_count": 29,
   "id": "7d456703",
   "metadata": {},
   "outputs": [
    {
     "name": "stdout",
     "output_type": "stream",
     "text": [
      "[ 1  2  3  4  5  6  7  8  9 10]\n"
     ]
    }
   ],
   "source": [
    "#wap to bulid an array of add of two numpy arrays\n",
    "#concatenate\n",
    "arr1=([1,2,3,4,5,])\n",
    "arr2=([6,7,8,9,10])\n",
    "arr=np.concatenate((arr1,arr2))\n",
    "print(arr)"
   ]
  },
  {
   "cell_type": "code",
   "execution_count": 30,
   "id": "5d7d9d5b",
   "metadata": {},
   "outputs": [
    {
     "name": "stdout",
     "output_type": "stream",
     "text": [
      "1st array: [1, 2, 3]\n",
      "2nd array: [4, 5, 6]\n",
      "adding of two array: [5 7 9]\n"
     ]
    }
   ],
   "source": [
    "#adding\n",
    "arr1=([1,2,3])\n",
    "arr2=([4,5,6])\n",
    "print(\"1st array:\",arr1)\n",
    "print(\"2nd array:\",arr2)\n",
    "out=np.add(arr1,arr2)\n",
    "print(\"adding of two array:\",out)"
   ]
  },
  {
   "cell_type": "code",
   "execution_count": 32,
   "id": "42d6cb93",
   "metadata": {},
   "outputs": [
    {
     "name": "stdout",
     "output_type": "stream",
     "text": [
      "original data: [1 2 3 4 5 6 7 8 9]\n",
      "indices of elements: [ True  True  True  True False False False False False]\n"
     ]
    }
   ],
   "source": [
    "#wap to return the indices of elements where the given condition is satisfied\n",
    "arr=np.array([1,2,3,4,5,6,7,8,9])\n",
    "condition=arr<5\n",
    "indicies=np.where(condition)\n",
    "print(\"original data:\",arr)\n",
    "print(\"indices of elements:\",condition)"
   ]
  },
  {
   "cell_type": "code",
   "execution_count": 1,
   "id": "138d7f64",
   "metadata": {},
   "outputs": [
    {
     "name": "stdout",
     "output_type": "stream",
     "text": [
      "original data: [[1 2 3]\n",
      " [4 5 6]]\n",
      "scalar: 3\n",
      "multiplying a matrix results: [[ 3  6  9]\n",
      " [12 15 18]]\n"
     ]
    }
   ],
   "source": [
    "import numpy as np\n",
    "#wap to multiplying a matrix(numpy array) by a scalar\n",
    "arr=np.array([[1,2,3],[4,5,6]])\n",
    "scalar=3\n",
    "matrix=arr*scalar\n",
    "print(\"original data:\",arr)\n",
    "print(\"scalar:\",scalar)\n",
    "print(\"multiplying a matrix results:\",matrix)"
   ]
  },
  {
   "cell_type": "code",
   "execution_count": 3,
   "id": "82a5d76a",
   "metadata": {},
   "outputs": [
    {
     "name": "stdout",
     "output_type": "stream",
     "text": [
      "original data: [[2.5  3.8  1.5 ]\n",
      " [4.7  2.9  1.56]]\n",
      "reshaped data: [[2.5  3.8 ]\n",
      " [1.5  4.7 ]\n",
      " [2.9  1.56]]\n"
     ]
    }
   ],
   "source": [
    "#wap to array redimensioning of giving data a=np.array([[2.5,3.8,1.5],[4.7,2.9,1.56]])\n",
    "a=np.array([[2.5,3.8,1.5],[4.7,2.9,1.56]])\n",
    "arr=a.reshape(3,2)\n",
    "print(\"original data:\",a)\n",
    "print(\"reshaped data:\",arr)"
   ]
  },
  {
   "cell_type": "code",
   "execution_count": 4,
   "id": "39addbfe",
   "metadata": {},
   "outputs": [
    {
     "name": "stdout",
     "output_type": "stream",
     "text": [
      "binary array: [[1 0 0]\n",
      " [1 1 1]\n",
      " [0 0 0]]\n",
      "boolean array: [[ True False False]\n",
      " [ True  True  True]\n",
      " [False False False]]\n"
     ]
    }
   ],
   "source": [
    "#wap to obtaining boolean array from binary array of given data a=np.array([[1,0,0],[1,1,1],[0,0,0]])\n",
    "a=np.array([[1,0,0],[1,1,1],[0,0,0]])\n",
    "boolean_array=a==1\n",
    "print(\"binary array:\",a)\n",
    "print(\"boolean array:\",boolean_array)"
   ]
  },
  {
   "cell_type": "code",
   "execution_count": 5,
   "id": "c47345f4",
   "metadata": {},
   "outputs": [
    {
     "name": "stdout",
     "output_type": "stream",
     "text": [
      "[1 2 3 4 5 6]\n"
     ]
    }
   ],
   "source": [
    "#wap to horizontal stacking of numpy arrays\n",
    "arr1=np.array([1,2,3])\n",
    "arr2=np.array([4,5,6])\n",
    "arr=np.hstack((arr1,arr2))\n",
    "print(arr)"
   ]
  },
  {
   "cell_type": "code",
   "execution_count": 7,
   "id": "c39b3718",
   "metadata": {},
   "outputs": [
    {
     "name": "stdout",
     "output_type": "stream",
     "text": [
      "random integers between 0 and 9:\n",
      "6\n",
      "9\n",
      "9\n",
      "4\n",
      "3\n",
      "1\n",
      "1\n",
      "8\n",
      "3\n"
     ]
    }
   ],
   "source": [
    "#array generation of random integers within a special range\n",
    "import random\n",
    "print(\"random integers between 0 and 9:\")\n",
    "for i in range(1,10):\n",
    "    y=random.randrange(10)\n",
    "    print(y)"
   ]
  },
  {
   "cell_type": "code",
   "execution_count": 11,
   "id": "b870cc12",
   "metadata": {},
   "outputs": [
    {
     "name": "stdout",
     "output_type": "stream",
     "text": [
      "Matrix a: [[1 2 3]\n",
      " [4 5 6]\n",
      " [7 8 9]]\n",
      "Matrix b: [[ 2  3  4]\n",
      " [ 5  6  7]\n",
      " [ 8  9 10]]\n",
      "product: [[ 2  6 12]\n",
      " [20 30 42]\n",
      " [56 72 90]]\n"
     ]
    }
   ],
   "source": [
    "#matrix multiplication of given data a=np.array([[1,2,3],[4,5,6],[7,8,9]]) b=np.array([[2,3,4],[5,6,7],[8,9,10]])\n",
    "a=np.array([[1,2,3],[4,5,6],[7,8,9]])\n",
    "b=np.array([[2,3,4],[5,6,7],[8,9,10]])\n",
    "result=np.multiply(a,b)\n",
    "print(\"Matrix a:\",a)\n",
    "print(\"Matrix b:\",b)\n",
    "print(\"product:\",result)"
   ]
  },
  {
   "cell_type": "code",
   "execution_count": null,
   "id": "fee8e429",
   "metadata": {},
   "outputs": [],
   "source": []
  }
 ],
 "metadata": {
  "kernelspec": {
   "display_name": "Python 3 (ipykernel)",
   "language": "python",
   "name": "python3"
  },
  "language_info": {
   "codemirror_mode": {
    "name": "ipython",
    "version": 3
   },
   "file_extension": ".py",
   "mimetype": "text/x-python",
   "name": "python",
   "nbconvert_exporter": "python",
   "pygments_lexer": "ipython3",
   "version": "3.11.4"
  }
 },
 "nbformat": 4,
 "nbformat_minor": 5
}
